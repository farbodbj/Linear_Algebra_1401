{
 "cells": [
  {
   "attachments": {},
   "cell_type": "markdown",
   "metadata": {},
   "source": [
    "# Linear Algebra Project 3:\n",
    "## Error-Detecting and Error-Correcting Codes \n",
    "\n",
    "In this project, a method for detecting and correcting errors made in the transmission of encoded messages is constructed. It will turn out that abstract vector spaces and the concepts of null space, rank, and dimension are needed for this construction"
   ]
  },
  {
   "attachments": {},
   "cell_type": "markdown",
   "metadata": {},
   "source": [
    "Please fill in the following information:\n",
    "\n",
    "- Student: Farbod Bijary\n",
    "- Student ID:"
   ]
  },
  {
   "attachments": {},
   "cell_type": "markdown",
   "metadata": {},
   "source": [
    "# Note\n",
    " - The following cells are only for your reference. Feel free to add more cells if you need to\n",
    " - It is highly recommended to divide the project into several parts and implement in different cells"
   ]
  },
  {
   "cell_type": "code",
   "execution_count": 11,
   "metadata": {},
   "outputs": [],
   "source": [
    "import numpy as np"
   ]
  },
  {
   "cell_type": "code",
   "execution_count": 12,
   "metadata": {},
   "outputs": [],
   "source": [
    "HAMMING = np.asarray([[0, 0, 0, 1, 1, 1, 1],\n",
    "                      [0, 1, 1, 0, 0, 1, 1],\n",
    "                      [1, 0, 1, 0, 1, 0, 1]])\n",
    "HAMMING_ENCODE = np.asarray([[1, 0, 0, 0],\n",
    "                            [0, 1, 0, 0],\n",
    "                            [0, 0, 1, 0],\n",
    "                            [0, 0, 0, 1],\n",
    "                            [0, 1, 1, 1],\n",
    "                            [1, 0, 1, 1],\n",
    "                            [1, 1, 0, 1]])\n",
    "STDIN_SHAPE = (4,)\n",
    "STDOUT_SHAPE = (7,)"
   ]
  },
  {
   "cell_type": "code",
   "execution_count": 13,
   "metadata": {},
   "outputs": [],
   "source": [
    "def to_bin(x:np.ndarray)->np.ndarray:\n",
    "    for i in range(len(x)):\n",
    "        x[i] = x[i]%2 \n",
    "    return x"
   ]
  },
  {
   "cell_type": "code",
   "execution_count": 14,
   "metadata": {},
   "outputs": [],
   "source": [
    "def ndarray_to_str(x:np.ndarray)->str:\n",
    "    return \"\".join(map(str, x))"
   ]
  },
  {
   "cell_type": "code",
   "execution_count": 15,
   "metadata": {},
   "outputs": [],
   "source": [
    "def encode(x: np.ndarray)->np.ndarray:\n",
    "    \"\"\"\n",
    "    encode input massage x using hamming(7, 4)\n",
    "    x: np.array(4, 1)\n",
    "    retrun: np.array(7, 1)\n",
    "    \"\"\"\n",
    "    if x.shape != STDIN_SHAPE:\n",
    "        raise Exception(\"Encoding only works on 4-bit length data\")\n",
    "    \n",
    "    return to_bin(np.matmul(HAMMING_ENCODE, x))\n",
    "    "
   ]
  },
  {
   "cell_type": "code",
   "execution_count": 16,
   "metadata": {},
   "outputs": [],
   "source": [
    "def error_detection(x:np.ndarray)->bool:\n",
    "    \"\"\"check if input message has error\n",
    "    x: np.array(7, 1)\n",
    "    return: True or False (True if x has error)\n",
    "    \"\"\"\n",
    "    \n",
    "    if x.shape != STDOUT_SHAPE:\n",
    "        print(x.shape)\n",
    "        raise Exception(\"Error detection only works on 4-bit length data\")\n",
    "    detector = to_bin(np.matmul(HAMMING, np.transpose(x)))\n",
    "    \n",
    "    return all(detector == 0)    "
   ]
  },
  {
   "cell_type": "code",
   "execution_count": 19,
   "metadata": {},
   "outputs": [],
   "source": [
    "def error_correction(x:np.ndarray)->np.ndarray:\n",
    "    \"\"\"detect error bit and corret that bit\n",
    "    x: np.array(7, 1)\n",
    "    return: correct message (np.array(4, 1))\n",
    "    \"\"\"\n",
    "    if(error_detection(x) == False):\n",
    "        return x\n",
    "    \n",
    "    detector = np.matmul(HAMMING, x)\n",
    "    fault_bit = int(ndarray_to_str(to_bin(detector)), base=2)\n",
    "    \n",
    "    \n",
    "    message_copy = np.copy(x)\n",
    "    \n",
    "    message_copy[fault_bit] ^= 1\n",
    "    \n",
    "    return message_copy"
   ]
  },
  {
   "cell_type": "code",
   "execution_count": 20,
   "metadata": {},
   "outputs": [
    {
     "name": "stdout",
     "output_type": "stream",
     "text": [
      "Question 1\n",
      "**********\n",
      "\n",
      "raw data: 1001\n",
      "encoded data: 1001100\n",
      "raw data: 0011\n",
      "encoded data: 0011001\n",
      "raw data: 0101\n",
      "encoded data: 0101010\n",
      "\n",
      "Question 2\n",
      "**********\n",
      "\n",
      "no error in: 0101101\n",
      "error detected in: 1000011 \n",
      "correct form: 0000011\n",
      "no error in: 0010111\n",
      "error detected in: 0101010 \n",
      "correct form: 1101010\n",
      "error detected in: 0111100 \n",
      "correct form: 1111100\n",
      "no error in: 1001101\n"
     ]
    }
   ],
   "source": [
    "#TEST CASES\n",
    "\n",
    "\n",
    "to_encode = [\n",
    "    [1, 0, 0, 1],\n",
    "    [0, 0, 1, 1],\n",
    "    [0, 1, 0, 1],\n",
    "]\n",
    "to_encode = list(map(np.asarray, to_encode))\n",
    "\n",
    "\n",
    "\n",
    "to_detect_and_correct = [\n",
    "    [0, 1, 0, 1, 1, 0, 1],\n",
    "    [1, 0, 0, 0, 0, 1, 1],\n",
    "    [0, 0, 1, 0, 1, 1, 1],\n",
    "    [0, 1, 0, 1, 0, 1, 0],\n",
    "    [0, 1, 1, 1, 1, 0, 0],\n",
    "    [1, 0, 0, 1, 1, 0, 1]\n",
    "]\n",
    "to_detect_and_correct = list(map(np.asarray, to_detect_and_correct))\n",
    "\n",
    "print(\"Question 1\\n**********\\n\")\n",
    "\n",
    "for message in to_encode:\n",
    "    print(\"raw data:\", ndarray_to_str(message))\n",
    "    print(\"encoded data:\", ndarray_to_str(encode(message)))\n",
    "    \n",
    "print(\"\\nQuestion 2\\n**********\\n\")\n",
    "    \n",
    "for encoded in to_detect_and_correct:\n",
    "    if(error_detection(encoded) == True):\n",
    "        print(\"error detected in:\", ndarray_to_str(encoded), \"\\ncorrect form:\", ndarray_to_str(error_correction(encoded)))\n",
    "    else:\n",
    "        print(\"no error in:\", \"\".join(map(str,encoded)))\n"
   ]
  },
  {
   "cell_type": "code",
   "execution_count": null,
   "metadata": {},
   "outputs": [],
   "source": [
    "#Question 1:\n",
    "\n",
    "\n",
    "'''\n",
    "find Null H\n",
    "\n",
    "Basis for Null H = [\n",
    "[-1, -1, 0, -1],\n",
    "[-1, -, -1, -1],\n",
    "[1, 0, 0, 0],\n",
    "[0, -1, -1, -1],\n",
    "[0, 1, 0, 0],\n",
    "[0, 0, 1, 0],\n",
    "[0 ,0, 0, 1]\n",
    "]\n",
    "\n",
    "'''"
   ]
  }
 ],
 "metadata": {
  "kernelspec": {
   "display_name": "Python 3 (ipykernel)",
   "language": "python",
   "name": "python3"
  },
  "language_info": {
   "codemirror_mode": {
    "name": "ipython",
    "version": 3
   },
   "file_extension": ".py",
   "mimetype": "text/x-python",
   "name": "python",
   "nbconvert_exporter": "python",
   "pygments_lexer": "ipython3",
   "version": "3.10.6"
  },
  "vscode": {
   "interpreter": {
    "hash": "3c8d7962229153ee1cc94942b4a4614675a4783bcfad832b920ced45d8e3e089"
   }
  }
 },
 "nbformat": 4,
 "nbformat_minor": 2
}
