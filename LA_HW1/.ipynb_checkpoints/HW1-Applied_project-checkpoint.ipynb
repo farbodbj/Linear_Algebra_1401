{
 "cells": [
  {
   "cell_type": "markdown",
   "metadata": {},
   "source": [
    "# Linear Algebra Project 1:\n",
    "- Difference Equations\n",
    "- Row-Reduction Algorithm\n",
    "\n",
    "By the end of this project, you will be able to:\n",
    "- Use numpy to implement basic linear algebra operations\n",
    "- Solve linear difference equations\n",
    "- Solve linear equations with the row reduction method\n",
    "- Apply the above knowledge to solve real-world problems"
   ]
  },
  {
   "cell_type": "markdown",
   "metadata": {},
   "source": [
    "Please fill in the following information:\n",
    "\n",
    "- Student: farbod bijary\n",
    "- Student ID: 40023011"
   ]
  },
  {
   "cell_type": "markdown",
   "metadata": {},
   "source": [
    "# Note\n",
    " - The following cells are only for your reference. Feel free to add more cells if you need to\n",
    " - It is highly recommended to divide the project into several parts and implement in different cells\n",
    " - You have to implement the algorithms by yourself not using any existing libraries."
   ]
  },
  {
   "cell_type": "markdown",
   "metadata": {},
   "source": [
    "## 1. Difference equations"
   ]
  },
  {
   "cell_type": "markdown",
   "metadata": {},
   "source": [
    "### 1.1. Apply Transformation Matrix"
   ]
  },
  {
   "cell_type": "code",
   "execution_count": 1,
   "metadata": {
    "scrolled": true
   },
   "outputs": [
    {
     "name": "stdout",
     "output_type": "stream",
     "text": [
      "2 2\n",
      "0.95 0.03\n",
      "0.05 0.97\n",
      "600000 400000\n",
      "582000\n",
      "418000\n"
     ]
    },
    {
     "data": {
      "text/plain": [
       "\"'\\n2 2\\n0.95 0.03\\n0.05 0.97\\n600000 400000\\n\""
      ]
     },
     "execution_count": 1,
     "metadata": {},
     "output_type": "execute_result"
    }
   ],
   "source": [
    "import numpy as np\n",
    "\n",
    "#Numpy arrays have a tuple named shape attribute which is formatted as follows:\n",
    "#(ROW_COUNT, COL_COUNT)\n",
    "\n",
    "ROW = 0\n",
    "COL = 1\n",
    "\n",
    "#calculated dot product using a simple for-loop. \n",
    "#Can be replaced with np.dot !\n",
    "\n",
    "def dot_product(A:np.ndarray,B:np.ndarray)->int:\n",
    "    dot = 0\n",
    "    cols = A.shape[ROW]\n",
    "    for ind in range(cols):\n",
    "        dot += A[ind]*B[ind]\n",
    "    \n",
    "    return dot\n",
    "        \n",
    "    \n",
    "    \n",
    "#uses dot_product function to calculate matrix multiplication result\n",
    "#other algorithms could be used for better performance (e.g: strassen's, schonhagen etc)\n",
    "\n",
    "def naive_multiplication(A:np.ndarray,B:np.ndarray)->np.ndarray:\n",
    "    if(A.shape[COL] != B.shape[ROW]):\n",
    "        raise Exception(\"Matrices are not multipliable!\")\n",
    "    \n",
    "    A_rows = A.shape[ROW]\n",
    "    B_cols = B.shape[COL]\n",
    "    \n",
    "    result = np.empty((A_rows, B_cols))\n",
    "    \n",
    "    for row in range(A_rows):\n",
    "        for col in range(B_cols):\n",
    "            result[row][col] = dot_product(A[row],B[:,col])\n",
    "    \n",
    "    return result\n",
    "    \n",
    "#just a wrapper function for naive_multiplication\n",
    "\n",
    "def transform(A:np.ndarray, x:np.ndarray)->np.ndarray:\n",
    "    result = naive_multiplication(A,x)\n",
    "    return result\n",
    "\n",
    "#returns an array showing the population forecast\n",
    "\n",
    "def estimate_population(A:np.ndarray, x:np.ndarray, count:int)->np.ndarray:\n",
    "    res = transform(A,x)\n",
    "    while(count - 1):\n",
    "        res = transform(A,res)\n",
    "        count -= 1\n",
    "    return res\n",
    "\n",
    "\n",
    "\n",
    "#getting input\n",
    "\n",
    "areas, count = list(map(int, input().split()))\n",
    "\n",
    "input_transform = [list(map(float, input().split())) for _ in range(2)]\n",
    "input_transform = np.asarray(input_transform)\n",
    "\n",
    "areas_population = [[item] for item in list(map(int, input().split()))]\n",
    "areas_population = np.asarray(areas_population)\n",
    "\n",
    "estimation = estimate_population(input_transform, areas_population, count - 1)\n",
    "\n",
    "\n",
    "for item in estimation.flatten():\n",
    "    print(int(item))\n",
    "\n",
    "\n",
    "''''\n",
    "2 2\n",
    "0.95 0.03\n",
    "0.05 0.97\n",
    "600000 400000\n",
    "'''"
   ]
  },
  {
   "cell_type": "markdown",
   "metadata": {},
   "source": [
    "### 1.2. Application: Migration problem\n",
    "A subject of interest to demographers is the movement of populations or groups of people from one region to another.\n",
    "The simple model here considers the changes in the population of a certain city and its surrounding suburbs over a period of years.\n",
    "Fix an initial year-say, 2020-and denote the populations of the city and suburbs that year by ro and so, respectively. \n",
    "\n",
    "Let r0 is the population of the city and s0 is the population of the suburbs, then x0 is the population vector:\n",
    "$$x0=\\begin{bmatrix} r0 \\\\ s0 \\end{bmatrix}$$\n",
    "\n",
    "For 2021 and subsequent years, denote the populations of the city and suburbs by the\n",
    "vectors\n",
    "$$x1=\\begin{bmatrix} r1 \\\\ s1 \\end{bmatrix}, x2=\\begin{bmatrix} r2 \\\\ s2 \\end{bmatrix}, x3=\\begin{bmatrix} r3 \\\\ s3 \\end{bmatrix}$$\n",
    "\n",
    "Our goal is to describe mathematically how these vectors might be related.\n",
    "Suppose demographic studies show that each year about 5% of the city's population moves to the suburbs (and 95 % remains in the city), while 3% of the suburban population moves to the city (and 97% remains in the suburbs).\n",
    "\n",
    "After 1 year, the original r0 persons in the city are now distributed between city and suburbs as \n",
    "$$\\begin{bmatrix} .95r0 \\\\ .05r0 \\end{bmatrix} = r0\\begin{bmatrix} .95 \\\\ .05 \\end{bmatrix}(1)$$\n",
    "\n",
    "The s0 persons in the suburbs in 2020 are distributed 1 year later as\n",
    "$$s0\\begin{bmatrix} .03 \\\\ .97 \\end{bmatrix}(2)$$\n",
    "\n",
    "The vector in (1) and (2) account for all of the population in 2021. Thus\n",
    "$$\\begin{bmatrix} r1 \\\\ s1 \\end{bmatrix} = r0\\begin{bmatrix} .95 \\\\ .05 \\end{bmatrix} + s0\\begin{bmatrix} .03 \\\\ .97 \\end{bmatrix} = \\begin{bmatrix} .95 & .03 \\\\ .05 & .97 \\end{bmatrix} \\begin{bmatrix} r0 \\\\ s0 \\end{bmatrix}$$\n",
    "\n",
    "That is, \n",
    "\n",
    "- x1 = Mx0 where M is the migration matrix\n",
    "\n",
    "Equation above describes how the population changes from 2020 to 2021. If the migration percentages remain constant, then the change from 2021 to 2022 is given by and similarly for 2022 to 2023 and subsequent years. In general,\n",
    "\n",
    "- Xk+1 = Mxk for k = 0, 1, 2, ...\n",
    "\n",
    "The sequence of vectors {x0, x1, x2, ... } describes the population of the city/suburban region over a period of years."
   ]
  },
  {
   "cell_type": "markdown",
   "metadata": {},
   "source": [
    "Example: Suppose the initial population of the city is 600,000 and the initial population of the suburbs is 400,000. What is the population of the city and suburbs after 2 years?\n",
    "\n",
    "Solution: The initial population vector is x0 = (600,000, 400,000). The migration matrix is M = $\\begin{bmatrix} .95 & .03 \\\\ .05 & .97 \\end{bmatrix}$.\n",
    "\n",
    "- The population vector after 1 year is x1 = Mx0 = (582,000, 418,000).\n",
    "- The population vector after 2 years is x2 = Mx1 = (565,440, 434,560)."
   ]
  },
  {
   "cell_type": "markdown",
   "metadata": {},
   "source": [
    "Now, suppose that we generalize the migration matrix M to include migration data between n regions. Then the M matrix would be an n × n matrix.\n",
    "\n",
    "The task is to find the population of each region after k years. The population of each region in the initial year is given by the vector x0. The population of each region after k years is given by the vector xk."
   ]
  },
  {
   "cell_type": "code",
   "execution_count": null,
   "metadata": {},
   "outputs": [],
   "source": [
    "def estimate_population(k, A, x0):\n",
    "    \"\"\"Estimate the population of each region after k years.\n",
    "    Args:\n",
    "        k (int): number of years\n",
    "        A (ndarray): standard matrix\n",
    "        x0 (ndarray): initial population vector\n",
    "\n",
    "    Returns:\n",
    "        x (ndarray): population vector after k years\n",
    "    \"\"\""
   ]
  },
  {
   "cell_type": "markdown",
   "metadata": {},
   "source": [
    "## 2. Row reduction algorithm"
   ]
  },
  {
   "cell_type": "code",
   "execution_count": 16,
   "metadata": {},
   "outputs": [],
   "source": [
    "import numpy as np\n",
    "from sys import float_info\n",
    "\n",
    "ROW = 0\n",
    "COL = 1"
   ]
  },
  {
   "cell_type": "markdown",
   "metadata": {},
   "source": [
    "### 2.1. Basic operations"
   ]
  },
  {
   "cell_type": "markdown",
   "metadata": {},
   "source": [
    "#### 2.1.1. Swap two rows"
   ]
  },
  {
   "cell_type": "code",
   "execution_count": 10,
   "metadata": {},
   "outputs": [],
   "source": [
    "def swap_rows(A: np.ndarray, i:int, j:int)->None:\n",
    "    if not ((i < A.shape[ROW] and i >= 0) or (i < A.shape[ROW] and j >= 0)):\n",
    "        raise Exception(\"input index i or j out of range\")\n",
    "    #for some reason rows of a numpy array can not be swapped with the common techniques: \n",
    "        '''\n",
    "        Wrong method no.1 :\n",
    "            A[i],A[j] = A[j],A[i]\n",
    "        \n",
    "        Wrong method no.2 :\n",
    "            A[i] = tmp\n",
    "            A[i] = A[j]\n",
    "            A[j] = tmp\n",
    "        '''\n",
    "    tmp = np.copy(A[i])\n",
    "    A[i] = A[j]\n",
    "    A[j] = tmp"
   ]
  },
  {
   "cell_type": "markdown",
   "metadata": {},
   "source": [
    "#### 2.1.2. Multiply a row by a nonzero constant"
   ]
  },
  {
   "cell_type": "code",
   "execution_count": 9,
   "metadata": {},
   "outputs": [],
   "source": [
    "#name of 2 args are changed for better readability\n",
    "#(i-->index)\n",
    "#(a-->coeff)\n",
    "def mult_row(A: np.ndarray, index: int, coeff: int)->None:\n",
    "    if(abs(coeff) <= float_info.epsilon):\n",
    "        raise Exception(\"Cannot multiply row by zero!\")\n",
    "    A[index] *= coeff"
   ]
  },
  {
   "cell_type": "markdown",
   "metadata": {},
   "source": [
    "#### 2.1.3. Add a multiple of one row to another row"
   ]
  },
  {
   "cell_type": "code",
   "execution_count": 8,
   "metadata": {},
   "outputs": [],
   "source": [
    "#name of 3 args are changed for better readability\n",
    "#(i-->dst)\n",
    "#(j-->src)\n",
    "#(a-->coeff)\n",
    "def add_rows(A: np.ndarray, dst: int, src: int, coeff: float)->None:\n",
    "    if not ((src < A.shape[ROW] and src >= 0) or (dst < A.shape[ROW] and dst >= 0)):\n",
    "        raise Exception(\"input index src or dst out of range\")\n",
    "    A[dst] += coeff * A[src]"
   ]
  },
  {
   "cell_type": "markdown",
   "metadata": {},
   "source": [
    "### 2.2. Row reduction algorithm implementation"
   ]
  },
  {
   "cell_type": "markdown",
   "metadata": {},
   "source": [
    "#### 2.2.1 Convert to reduced row echelon form"
   ]
  },
  {
   "cell_type": "code",
   "execution_count": 12,
   "metadata": {},
   "outputs": [],
   "source": [
    "#finds the first non-zero column\n",
    "def FNC(A: np.ndarray, row_offset: int)->int:\n",
    "    cols = A.shape[COL]\n",
    "    \n",
    "    for col_num in range(cols):\n",
    "        if(not all(A[row_offset: ,col_num] == 0)):\n",
    "            return col_num\n",
    "        \n",
    "    #the case when all columns are all 0    \n",
    "    return -1"
   ]
  },
  {
   "cell_type": "code",
   "execution_count": 14,
   "metadata": {},
   "outputs": [],
   "source": [
    "def max_in_col(A: np.ndarray, col_num: int, row_offset: int)->int:\n",
    "    row_count = A.shape[ROW]\n",
    "    max_tmp = A[row_offset][col_num]\n",
    "    max_row = row_offset\n",
    "    \n",
    "    for row in range(row_offset + 1, row_count):\n",
    "        if(max_tmp < A[row][col_num]):\n",
    "            max_row = row\n",
    "    \n",
    "    return max_row"
   ]
  },
  {
   "cell_type": "code",
   "execution_count": 7,
   "metadata": {},
   "outputs": [],
   "source": [
    "#2 new args are added. These 2 args are required for this implementation\n",
    "#this function uses a recursive method for converting a matrix to rref. \n",
    "#after it creates zeros under a pivot it ignores the row and column for \n",
    "#pivot and does the same thing it was doing before to the sub matrix\n",
    "#the ignored row and column are passed as row_offset and col_offset in\n",
    "#every function call.\n",
    " \n",
    "def to_rref(A: np.ndarray, row_offset: int, col_offset: int)->None:\n",
    "\n",
    "    row_count = A.shape[ROW]\n",
    "    col_count = A.shape[COL]\n",
    "\n",
    "    col_offset = FNC(A, row_offset)\n",
    "    \n",
    "    if row_offset > row_count - 1 or col_offset > col_count - 1:\n",
    "        return\n",
    "    \n",
    "    elif col_offset == -1:\n",
    "        return A\n",
    "    \n",
    "    else:\n",
    "        #finds the index of the biggest value in a row\n",
    "        max_row = max_in_col(A, col_offset, row_offset)\n",
    "\n",
    "        #swaps the initial pivot value with the larger one\n",
    "        swap_rows(A, max_row, row_offset)\n",
    "\n",
    "        pivot = A[row_offset][col_offset]\n",
    "\n",
    "        mult_row(A, row_offset, 1/pivot)\n",
    "\n",
    "        row = row_offset + 1\n",
    "        while row < row_count:\n",
    "            if not (abs(A[row][col_offset]) <= float_info.epsilon):\n",
    "                add_rows(A, row, row_offset, -1 * A[row][col_offset])\n",
    "            row += 1\n",
    "            \n",
    "            \n",
    "        row = row_offset - 1\n",
    "        while row >= 0: \n",
    "            if not (abs(A[row][col_offset]) <= float_info.epsilon):\n",
    "                add_rows(A, row, row_offset, -1 * A[row][col_offset])\n",
    "            row -= 1\n",
    "\n",
    "        \n",
    "        return to_rref(A, row_offset + 1, col_offset + 1)"
   ]
  },
  {
   "cell_type": "markdown",
   "metadata": {},
   "source": [
    "#### 2.2.2. Solve linear equations"
   ]
  },
  {
   "cell_type": "code",
   "execution_count": 5,
   "metadata": {},
   "outputs": [],
   "source": [
    "def solve(A: np.ndarray, b: np.ndarray)->np.ndarray:\n",
    "    #creates the augmented matrix\n",
    "    input_matrix = np.c_[A,b]\n",
    "    \n",
    "    #converts the matrix to rref\n",
    "    to_rref(input_matrix, 0, 0)\n",
    "    \n",
    "    answers = input_matrix[:,-1]\n",
    "            \n",
    "    return answers"
   ]
  },
  {
   "cell_type": "markdown",
   "metadata": {},
   "source": [
    "### 2.3. Application: Diet planning problem"
   ]
  },
  {
   "cell_type": "markdown",
   "metadata": {},
   "source": [
    "A proper diet is a diet consisting of the required amount of different nutrients.To achieve the desired amounts and proportions of nutrients, We have to incorporate a large variety of foodstuffs in the diet. Each foodstuff supplied several of the required ingredients, but not in the correct proportions. For instance, nonfat milk was a major source of protein but contained too much calcium. So soy flour was used for part of the protein because soy flour contains little calcium. However, soy flour contains proportionally too much fat, so whey was added since it supplies less fat in relation to\n",
    "calcium. Unfortunately, whey contains too much carbohydrate . . .\n",
    "\n",
    "The following example illustrates the problem on a small scale. Listed in Table 1 are three of the ingredients in the diet, together with the amounts of certain nutrients supplied by 100 grams (g) of each ingredient.\n",
    "\n",
    "| Nutrient     | Nonfat milk | Soy flour | Whey | Needed |\n",
    "|--------------|-------------|-----------|------|--------|\n",
    "| Protein      | 36          | 51        | 13   |   33   |\n",
    "| Carbohydrate | 52          | 34        | 74   |   45   |\n",
    "| Fat          | 0           | 7         | 1.1  |    3   |"
   ]
  },
  {
   "cell_type": "markdown",
   "metadata": {},
   "source": [
    "Let x1, x2, and x3, respectively, denote the number of units (100 g) of these food stuffs. One approach to the problem is to derive equations for each nutrient separately. For instance, the product\n",
    "\n",
    "*{x1 units of nonfat milk}.{protein per unit of nonfat milk}*\n",
    "\n",
    "gives the amount of protein supplied by x1 units of nonfat milk. To this amount, we would then add similar products for soy flour and whey and set the resulting sum equal to the amount of protein we need. Analogous calculations would have to be made for A more efficient method, and one that is conceptually simpler, is to consider a “nutrient vector” for each foodstuff and build just one vector equation. The amount of nutrients supplied by x1 units of nonfat milk is the scalar multiple:\n",
    "\n",
    "*{x1 units of nonfat milk (scalar)}.{protein per unit of nonfat milk (vector)} = x1.a1*\n",
    "\n",
    "where a1 is the first column in Table 1. Let a2 and a3 be the corresponding vectors for soy flour and whey, respectively, and let b be the vector that lists the total nutrients required (the last column of the table). Then x2a2 and x3a3 give the nutrients supplied by x2 units of soy flour and x3 units of whey, respectively. So the relevant equation is:\n",
    "\n",
    "$$ x_1a_1 + x_2a_2 + x_3a_3 = b $$\n",
    "\n",
    "Row reduction of the augmented matrix for the corresponding system of equations shows that:\n",
    "\n",
    "$$\\begin{bmatrix} 36 & 51 & 13 & 33 \\\\ 52 & 34 & 74 & 45 \\\\ 0 & 7 & 1.1 & 3 \\end{bmatrix}$$\n",
    "\n",
    "convert to row reduced form:\n",
    "\n",
    "$$\\begin{bmatrix} 1 & 0 & 0 & 0.277 \\\\ 0 & 1 & 0 & 0.392 \\\\ 0 & 0 & 1 & 0.233 \\end{bmatrix}$$\n",
    "\n",
    "\n",
    "To three significant digits, the diet requires .277 units of nonfat milk, .392 units of soy flour, and .233 units of whey in order to provide the desired amounts of protein,\n",
    "carbohydrate, and fat.\n",
    "$$ x_1= 0.277, x_2= 0.392, x_3=0.233 $$"
   ]
  },
  {
   "cell_type": "code",
   "execution_count": 20,
   "metadata": {},
   "outputs": [],
   "source": [
    "# use the functions implemented in part 1 to solve diet planning\n",
    "def diet_planning(n: int, m: int, A: np.ndarray, b: np.ndarray):\n",
    "    \"\"\"calculate the necessary amount of each food item to achieve the required amount of nutrients.\n",
    "\n",
    "    Args:\n",
    "        n (int): number of different nutrients\n",
    "        m (int): number of different food item\n",
    "        A (ndarray n*m): Matrix of nutrients per unit of food\n",
    "        b (ndarray n*1): The required amount of each nutrient\n",
    "\n",
    "    Returns:\n",
    "        X (ndarray): The required number of units of each food\n",
    "    \"\"\"\n",
    "    \n",
    "    result = solve(A,b)\n",
    "    \n",
    "    i=0\n",
    "    for ans in result:\n",
    "        print(f\"{i}- {ans}\")\n",
    "        i+=1\n",
    "    "
   ]
  },
  {
   "cell_type": "code",
   "execution_count": 21,
   "metadata": {},
   "outputs": [
    {
     "name": "stdout",
     "output_type": "stream",
     "text": [
      "0- 0.277223183614433\n",
      "1- 0.391920861637007\n",
      "2- 0.2332308804917736\n"
     ]
    }
   ],
   "source": [
    "A = np.asarray([[36,51,13],[52,34,74],[0,7,1.1]], dtype=float)\n",
    "b = np.asarray([[33],[45],[3]], dtype = float)\n",
    "diet_planning(3, 3, A, b)"
   ]
  },
  {
   "cell_type": "code",
   "execution_count": null,
   "metadata": {},
   "outputs": [],
   "source": []
  }
 ],
 "metadata": {
  "kernelspec": {
   "display_name": "Python 3 (ipykernel)",
   "language": "python",
   "name": "python3"
  },
  "language_info": {
   "codemirror_mode": {
    "name": "ipython",
    "version": 3
   },
   "file_extension": ".py",
   "mimetype": "text/x-python",
   "name": "python",
   "nbconvert_exporter": "python",
   "pygments_lexer": "ipython3",
   "version": "3.10.6"
  },
  "vscode": {
   "interpreter": {
    "hash": "3c8d7962229153ee1cc94942b4a4614675a4783bcfad832b920ced45d8e3e089"
   }
  }
 },
 "nbformat": 4,
 "nbformat_minor": 2
}
